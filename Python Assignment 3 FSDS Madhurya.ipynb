{
 "cells": [
  {
   "cell_type": "markdown",
   "metadata": {},
   "source": [
    "1. Why are functions advantageous to have in your programs?\n",
    "Ans : Because using function, you need not repeat the some code, you can just call the function whenever you need which will return you the output you need. "
   ]
  },
  {
   "cell_type": "markdown",
   "metadata": {},
   "source": [
    "2. When does the code in a function run: when it's specified or when it's called? \n",
    "Ans : When the function is called , the code will run"
   ]
  },
  {
   "cell_type": "markdown",
   "metadata": {},
   "source": [
    "3. What statement creates a function?\n",
    "def functionname(parameter1,parameter2):\n",
    "    #write code here\n",
    "    return "
   ]
  },
  {
   "cell_type": "markdown",
   "metadata": {},
   "source": [
    "4. What is the difference between a function and a function call?\n",
    "Ans: function means you define what it should do.\n",
    "function call means then only you are calling that particular function to execute. \n",
    "Wrtiting a function doesn;t mean it will execute then only\n",
    "Only a function call makes the functin execute"
   ]
  },
  {
   "cell_type": "markdown",
   "metadata": {},
   "source": [
    "5. How many global scopes are there in a Python program? How many local scopes?\n",
    "Ans: global scope we have only one, it means we should initialise a variable outside a function, then it will work throughout the program. Local scopes can be many like, if you have 3 functions and 2 classes, then you will have those many local scopes, basically local scope is something you have intiialised the vairbale inside a function or a class, and if you want some variable to be glonbal even though you initialise inside a function or a class then you can mention it as global Eg: global a\n",
    "a  = 10"
   ]
  },
  {
   "cell_type": "markdown",
   "metadata": {},
   "source": [
    "6. What happens to variables in a local scope when the function call returns?\n",
    "Ans : only when a function is called, that particular variable will be assigned /or occupy the memory. If you just initialise the function and don't call then it means that variable is not assigned yet"
   ]
  },
  {
   "cell_type": "markdown",
   "metadata": {},
   "source": [
    "7. What is the concept of a return value? Is it possible to have a return value in an expression?\n",
    "Ans: return value is something ananswer to a function call, if you call a function it will give you something in return , for that case we use return keyword. "
   ]
  },
  {
   "cell_type": "markdown",
   "metadata": {},
   "source": [
    "8. If a function does not have a return statement, what is the return value of a call to that function?\n",
    "Ans: no it wont return anything if we call that function"
   ]
  },
  {
   "cell_type": "markdown",
   "metadata": {},
   "source": [
    "9. How do you make a function variable refer to the global variable?\n",
    "Ans: \n",
    "def madhu():\n",
    "    global a\n",
    "    a =10\n",
    "madhu()"
   ]
  },
  {
   "cell_type": "markdown",
   "metadata": {},
   "source": [
    "10. What is the data type of None?\n",
    "Ans: NoneType"
   ]
  },
  {
   "cell_type": "markdown",
   "metadata": {},
   "source": [
    "11. What does the sentence import areallyourpetsnamederic do?\n",
    "Ans: question is invalid"
   ]
  },
  {
   "cell_type": "markdown",
   "metadata": {},
   "source": [
    "12. If you had a bacon() feature in a spam module, what would you call it after importing spam?\n",
    "Ans:\n",
    "Import spam\n",
    "Bacon()\n",
    "\n",
    "OR\n",
    "\n",
    "import spam as sp\n",
    "sp.Bacon()"
   ]
  },
  {
   "cell_type": "markdown",
   "metadata": {},
   "source": [
    "13. What can you do to save a programme from crashing if it encounters an error?\n",
    "Ans: to stop these types of sceanrios we have to use error handling methodology:\n",
    "\n",
    "14. What is the purpose of the try clause? What is the purpose of the except clause?\n",
    "Ans: try block will run only if there is no error in our code, if there is an error then except block comes into picture, except block will execute when there is error in try block"
   ]
  },
  {
   "cell_type": "code",
   "execution_count": null,
   "metadata": {},
   "outputs": [],
   "source": []
  }
 ],
 "metadata": {
  "kernelspec": {
   "display_name": "Python 3",
   "language": "python",
   "name": "python3"
  },
  "language_info": {
   "codemirror_mode": {
    "name": "ipython",
    "version": 3
   },
   "file_extension": ".py",
   "mimetype": "text/x-python",
   "name": "python",
   "nbconvert_exporter": "python",
   "pygments_lexer": "ipython3",
   "version": "3.8.5"
  }
 },
 "nbformat": 4,
 "nbformat_minor": 4
}
